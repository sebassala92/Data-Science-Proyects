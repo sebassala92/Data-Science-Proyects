{
 "cells": [
  {
   "cell_type": "code",
   "execution_count": 1,
   "id": "robust-remark",
   "metadata": {},
   "outputs": [],
   "source": [
    "import pandas as pd\n",
    "import numpy as np"
   ]
  },
  {
   "cell_type": "code",
   "execution_count": 2,
   "id": "republican-planet",
   "metadata": {},
   "outputs": [],
   "source": [
    "Train =  pd.read_csv(\"Data/TrainFeatureEngined.csv\")\n",
    "Test =  pd.read_csv(\"Data/TestFeatureEngined.csv\")"
   ]
  },
  {
   "cell_type": "code",
   "execution_count": 3,
   "id": "becoming-minister",
   "metadata": {},
   "outputs": [
    {
     "data": {
      "text/html": [
       "<div>\n",
       "<style scoped>\n",
       "    .dataframe tbody tr th:only-of-type {\n",
       "        vertical-align: middle;\n",
       "    }\n",
       "\n",
       "    .dataframe tbody tr th {\n",
       "        vertical-align: top;\n",
       "    }\n",
       "\n",
       "    .dataframe thead th {\n",
       "        text-align: right;\n",
       "    }\n",
       "</style>\n",
       "<table border=\"1\" class=\"dataframe\">\n",
       "  <thead>\n",
       "    <tr style=\"text-align: right;\">\n",
       "      <th></th>\n",
       "      <th>Survived</th>\n",
       "      <th>Pclass</th>\n",
       "      <th>SibSp</th>\n",
       "      <th>Parch</th>\n",
       "      <th>Embarked</th>\n",
       "      <th>Age_group</th>\n",
       "      <th>Fare_group</th>\n",
       "      <th>Cabin_New_2</th>\n",
       "      <th>Sex_New</th>\n",
       "    </tr>\n",
       "  </thead>\n",
       "  <tbody>\n",
       "    <tr>\n",
       "      <th>0</th>\n",
       "      <td>0</td>\n",
       "      <td>3</td>\n",
       "      <td>1</td>\n",
       "      <td>0</td>\n",
       "      <td>S</td>\n",
       "      <td>[20, 40)</td>\n",
       "      <td>[0, 7.9)</td>\n",
       "      <td>C</td>\n",
       "      <td>1</td>\n",
       "    </tr>\n",
       "    <tr>\n",
       "      <th>1</th>\n",
       "      <td>1</td>\n",
       "      <td>1</td>\n",
       "      <td>1</td>\n",
       "      <td>0</td>\n",
       "      <td>C</td>\n",
       "      <td>[20, 40)</td>\n",
       "      <td>[38.9+)</td>\n",
       "      <td>C</td>\n",
       "      <td>0</td>\n",
       "    </tr>\n",
       "    <tr>\n",
       "      <th>2</th>\n",
       "      <td>1</td>\n",
       "      <td>3</td>\n",
       "      <td>0</td>\n",
       "      <td>0</td>\n",
       "      <td>S</td>\n",
       "      <td>[20, 40)</td>\n",
       "      <td>[7.9, 14.4)</td>\n",
       "      <td>C</td>\n",
       "      <td>0</td>\n",
       "    </tr>\n",
       "    <tr>\n",
       "      <th>3</th>\n",
       "      <td>1</td>\n",
       "      <td>1</td>\n",
       "      <td>1</td>\n",
       "      <td>0</td>\n",
       "      <td>S</td>\n",
       "      <td>[20, 40)</td>\n",
       "      <td>[38.9+)</td>\n",
       "      <td>C</td>\n",
       "      <td>0</td>\n",
       "    </tr>\n",
       "    <tr>\n",
       "      <th>4</th>\n",
       "      <td>0</td>\n",
       "      <td>3</td>\n",
       "      <td>0</td>\n",
       "      <td>0</td>\n",
       "      <td>S</td>\n",
       "      <td>[20, 40)</td>\n",
       "      <td>[7.9, 14.4)</td>\n",
       "      <td>C</td>\n",
       "      <td>1</td>\n",
       "    </tr>\n",
       "  </tbody>\n",
       "</table>\n",
       "</div>"
      ],
      "text/plain": [
       "   Survived  Pclass  SibSp  Parch Embarked Age_group   Fare_group Cabin_New_2  \\\n",
       "0         0       3      1      0        S  [20, 40)     [0, 7.9)           C   \n",
       "1         1       1      1      0        C  [20, 40)      [38.9+)           C   \n",
       "2         1       3      0      0        S  [20, 40)  [7.9, 14.4)           C   \n",
       "3         1       1      1      0        S  [20, 40)      [38.9+)           C   \n",
       "4         0       3      0      0        S  [20, 40)  [7.9, 14.4)           C   \n",
       "\n",
       "   Sex_New  \n",
       "0        1  \n",
       "1        0  \n",
       "2        0  \n",
       "3        0  \n",
       "4        1  "
      ]
     },
     "execution_count": 3,
     "metadata": {},
     "output_type": "execute_result"
    }
   ],
   "source": [
    "Train.head()"
   ]
  },
  {
   "cell_type": "code",
   "execution_count": 4,
   "id": "nasty-sheffield",
   "metadata": {},
   "outputs": [
    {
     "data": {
      "text/plain": [
       "(891, 9)"
      ]
     },
     "execution_count": 4,
     "metadata": {},
     "output_type": "execute_result"
    }
   ],
   "source": [
    "Train.shape"
   ]
  },
  {
   "cell_type": "code",
   "execution_count": 5,
   "id": "available-blank",
   "metadata": {},
   "outputs": [
    {
     "data": {
      "text/plain": [
       "(418, 8)"
      ]
     },
     "execution_count": 5,
     "metadata": {},
     "output_type": "execute_result"
    }
   ],
   "source": [
    "Test.shape"
   ]
  },
  {
   "cell_type": "code",
   "execution_count": 6,
   "id": "portuguese-emission",
   "metadata": {},
   "outputs": [
    {
     "data": {
      "text/plain": [
       "array([1, 0, 3, 4, 2, 5, 8], dtype=int64)"
      ]
     },
     "execution_count": 6,
     "metadata": {},
     "output_type": "execute_result"
    }
   ],
   "source": [
    "Train['SibSp'].unique()"
   ]
  },
  {
   "cell_type": "code",
   "execution_count": 7,
   "id": "worldwide-clinic",
   "metadata": {},
   "outputs": [
    {
     "data": {
      "text/plain": [
       "(418, 8)"
      ]
     },
     "execution_count": 7,
     "metadata": {},
     "output_type": "execute_result"
    }
   ],
   "source": [
    "Test.shape"
   ]
  },
  {
   "cell_type": "code",
   "execution_count": 8,
   "id": "realistic-deployment",
   "metadata": {},
   "outputs": [],
   "source": [
    "class GetDummies():\n",
    "    \n",
    "    def __init__(self, train, test):\n",
    "        self.train = train\n",
    "        self.test = test\n",
    "    \n",
    "    # Dummy encoding    \n",
    "    def dummy_encoding(self, column_name):\n",
    "        self.train['train'] = 1\n",
    "        self.test['train'] = 0\n",
    "        \n",
    "        combined = pd.concat([self.train, self.test])\n",
    "        column_encoded = pd.get_dummies(combined[column_name])\n",
    "        column_encoded.columns = ['{}_{}'.format(column_name, x) for x in column_encoded.columns]\n",
    "        \n",
    "        combined = pd.concat([combined, column_encoded], axis=1)\n",
    "        \n",
    "        train = combined[combined['train'] == 1]\n",
    "        test = combined[combined['train'] == 0]\n",
    "        \n",
    "        train.drop(['train'], axis=1, inplace=True)\n",
    "        test.drop(['train'], axis=1, inplace=True)\n",
    "        \n",
    "        return train, test"
   ]
  },
  {
   "cell_type": "code",
   "execution_count": null,
   "id": "printable-remains",
   "metadata": {},
   "outputs": [],
   "source": []
  },
  {
   "cell_type": "code",
   "execution_count": 9,
   "id": "confused-arabic",
   "metadata": {},
   "outputs": [],
   "source": [
    "Train['train'] = 1\n",
    "Test['train'] = 0"
   ]
  },
  {
   "cell_type": "code",
   "execution_count": 10,
   "id": "ignored-campaign",
   "metadata": {},
   "outputs": [],
   "source": [
    "combined = pd.concat([Train, Test])"
   ]
  },
  {
   "cell_type": "code",
   "execution_count": 11,
   "id": "paperback-singing",
   "metadata": {},
   "outputs": [],
   "source": [
    "column_encoded = pd.get_dummies(combined['Pclass'])"
   ]
  },
  {
   "cell_type": "code",
   "execution_count": 12,
   "id": "marine-genealogy",
   "metadata": {},
   "outputs": [],
   "source": [
    "combined = pd.concat([combined, column_encoded], axis=1)"
   ]
  },
  {
   "cell_type": "code",
   "execution_count": 13,
   "id": "owned-mumbai",
   "metadata": {},
   "outputs": [],
   "source": [
    "Train = combined[combined['train'] == 1]\n",
    "Test = combined[combined['train'] == 0]"
   ]
  },
  {
   "cell_type": "code",
   "execution_count": 14,
   "id": "sufficient-asset",
   "metadata": {},
   "outputs": [
    {
     "name": "stderr",
     "output_type": "stream",
     "text": [
      "c:\\users\\zebas\\appdata\\local\\programs\\python\\python39\\lib\\site-packages\\pandas\\core\\frame.py:4308: SettingWithCopyWarning: \n",
      "A value is trying to be set on a copy of a slice from a DataFrame\n",
      "\n",
      "See the caveats in the documentation: https://pandas.pydata.org/pandas-docs/stable/user_guide/indexing.html#returning-a-view-versus-a-copy\n",
      "  return super().drop(\n"
     ]
    }
   ],
   "source": [
    "Train.drop(['train'], axis=1, inplace=True)\n",
    "Test.drop(['train'], axis=1, inplace=True)"
   ]
  },
  {
   "cell_type": "code",
   "execution_count": null,
   "id": "classical-needle",
   "metadata": {},
   "outputs": [],
   "source": []
  },
  {
   "cell_type": "code",
   "execution_count": 15,
   "id": "brief-aberdeen",
   "metadata": {},
   "outputs": [
    {
     "data": {
      "text/html": [
       "<div>\n",
       "<style scoped>\n",
       "    .dataframe tbody tr th:only-of-type {\n",
       "        vertical-align: middle;\n",
       "    }\n",
       "\n",
       "    .dataframe tbody tr th {\n",
       "        vertical-align: top;\n",
       "    }\n",
       "\n",
       "    .dataframe thead th {\n",
       "        text-align: right;\n",
       "    }\n",
       "</style>\n",
       "<table border=\"1\" class=\"dataframe\">\n",
       "  <thead>\n",
       "    <tr style=\"text-align: right;\">\n",
       "      <th></th>\n",
       "      <th>Survived</th>\n",
       "      <th>Pclass</th>\n",
       "      <th>SibSp</th>\n",
       "      <th>Parch</th>\n",
       "      <th>Embarked</th>\n",
       "      <th>Age_group</th>\n",
       "      <th>Fare_group</th>\n",
       "      <th>Cabin_New_2</th>\n",
       "      <th>Sex_New</th>\n",
       "      <th>1</th>\n",
       "      <th>2</th>\n",
       "      <th>3</th>\n",
       "    </tr>\n",
       "  </thead>\n",
       "  <tbody>\n",
       "    <tr>\n",
       "      <th>0</th>\n",
       "      <td>0.0</td>\n",
       "      <td>3</td>\n",
       "      <td>1</td>\n",
       "      <td>0</td>\n",
       "      <td>S</td>\n",
       "      <td>[20, 40)</td>\n",
       "      <td>[0, 7.9)</td>\n",
       "      <td>C</td>\n",
       "      <td>1</td>\n",
       "      <td>0</td>\n",
       "      <td>0</td>\n",
       "      <td>1</td>\n",
       "    </tr>\n",
       "    <tr>\n",
       "      <th>1</th>\n",
       "      <td>1.0</td>\n",
       "      <td>1</td>\n",
       "      <td>1</td>\n",
       "      <td>0</td>\n",
       "      <td>C</td>\n",
       "      <td>[20, 40)</td>\n",
       "      <td>[38.9+)</td>\n",
       "      <td>C</td>\n",
       "      <td>0</td>\n",
       "      <td>1</td>\n",
       "      <td>0</td>\n",
       "      <td>0</td>\n",
       "    </tr>\n",
       "    <tr>\n",
       "      <th>2</th>\n",
       "      <td>1.0</td>\n",
       "      <td>3</td>\n",
       "      <td>0</td>\n",
       "      <td>0</td>\n",
       "      <td>S</td>\n",
       "      <td>[20, 40)</td>\n",
       "      <td>[7.9, 14.4)</td>\n",
       "      <td>C</td>\n",
       "      <td>0</td>\n",
       "      <td>0</td>\n",
       "      <td>0</td>\n",
       "      <td>1</td>\n",
       "    </tr>\n",
       "    <tr>\n",
       "      <th>3</th>\n",
       "      <td>1.0</td>\n",
       "      <td>1</td>\n",
       "      <td>1</td>\n",
       "      <td>0</td>\n",
       "      <td>S</td>\n",
       "      <td>[20, 40)</td>\n",
       "      <td>[38.9+)</td>\n",
       "      <td>C</td>\n",
       "      <td>0</td>\n",
       "      <td>1</td>\n",
       "      <td>0</td>\n",
       "      <td>0</td>\n",
       "    </tr>\n",
       "    <tr>\n",
       "      <th>4</th>\n",
       "      <td>0.0</td>\n",
       "      <td>3</td>\n",
       "      <td>0</td>\n",
       "      <td>0</td>\n",
       "      <td>S</td>\n",
       "      <td>[20, 40)</td>\n",
       "      <td>[7.9, 14.4)</td>\n",
       "      <td>C</td>\n",
       "      <td>1</td>\n",
       "      <td>0</td>\n",
       "      <td>0</td>\n",
       "      <td>1</td>\n",
       "    </tr>\n",
       "  </tbody>\n",
       "</table>\n",
       "</div>"
      ],
      "text/plain": [
       "   Survived  Pclass  SibSp  Parch Embarked Age_group   Fare_group Cabin_New_2  \\\n",
       "0       0.0       3      1      0        S  [20, 40)     [0, 7.9)           C   \n",
       "1       1.0       1      1      0        C  [20, 40)      [38.9+)           C   \n",
       "2       1.0       3      0      0        S  [20, 40)  [7.9, 14.4)           C   \n",
       "3       1.0       1      1      0        S  [20, 40)      [38.9+)           C   \n",
       "4       0.0       3      0      0        S  [20, 40)  [7.9, 14.4)           C   \n",
       "\n",
       "   Sex_New  1  2  3  \n",
       "0        1  0  0  1  \n",
       "1        0  1  0  0  \n",
       "2        0  0  0  1  \n",
       "3        0  1  0  0  \n",
       "4        1  0  0  1  "
      ]
     },
     "execution_count": 15,
     "metadata": {},
     "output_type": "execute_result"
    }
   ],
   "source": [
    "Train.head()"
   ]
  },
  {
   "cell_type": "code",
   "execution_count": 16,
   "id": "indian-vacation",
   "metadata": {},
   "outputs": [
    {
     "data": {
      "text/html": [
       "<div>\n",
       "<style scoped>\n",
       "    .dataframe tbody tr th:only-of-type {\n",
       "        vertical-align: middle;\n",
       "    }\n",
       "\n",
       "    .dataframe tbody tr th {\n",
       "        vertical-align: top;\n",
       "    }\n",
       "\n",
       "    .dataframe thead th {\n",
       "        text-align: right;\n",
       "    }\n",
       "</style>\n",
       "<table border=\"1\" class=\"dataframe\">\n",
       "  <thead>\n",
       "    <tr style=\"text-align: right;\">\n",
       "      <th></th>\n",
       "      <th>Survived</th>\n",
       "      <th>Pclass</th>\n",
       "      <th>SibSp</th>\n",
       "      <th>Parch</th>\n",
       "      <th>Embarked</th>\n",
       "      <th>Age_group</th>\n",
       "      <th>Fare_group</th>\n",
       "      <th>Cabin_New_2</th>\n",
       "      <th>Sex_New</th>\n",
       "      <th>1</th>\n",
       "      <th>2</th>\n",
       "      <th>3</th>\n",
       "    </tr>\n",
       "  </thead>\n",
       "  <tbody>\n",
       "    <tr>\n",
       "      <th>0</th>\n",
       "      <td>NaN</td>\n",
       "      <td>3</td>\n",
       "      <td>0</td>\n",
       "      <td>0</td>\n",
       "      <td>Q</td>\n",
       "      <td>[20, 40)</td>\n",
       "      <td>[0, 7.9)</td>\n",
       "      <td>C</td>\n",
       "      <td>1</td>\n",
       "      <td>0</td>\n",
       "      <td>0</td>\n",
       "      <td>1</td>\n",
       "    </tr>\n",
       "    <tr>\n",
       "      <th>1</th>\n",
       "      <td>NaN</td>\n",
       "      <td>3</td>\n",
       "      <td>1</td>\n",
       "      <td>0</td>\n",
       "      <td>S</td>\n",
       "      <td>[40, 60)</td>\n",
       "      <td>[0, 7.9)</td>\n",
       "      <td>C</td>\n",
       "      <td>0</td>\n",
       "      <td>0</td>\n",
       "      <td>0</td>\n",
       "      <td>1</td>\n",
       "    </tr>\n",
       "    <tr>\n",
       "      <th>2</th>\n",
       "      <td>NaN</td>\n",
       "      <td>2</td>\n",
       "      <td>0</td>\n",
       "      <td>0</td>\n",
       "      <td>Q</td>\n",
       "      <td>[60+)</td>\n",
       "      <td>[7.9, 14.4)</td>\n",
       "      <td>C</td>\n",
       "      <td>1</td>\n",
       "      <td>0</td>\n",
       "      <td>1</td>\n",
       "      <td>0</td>\n",
       "    </tr>\n",
       "    <tr>\n",
       "      <th>3</th>\n",
       "      <td>NaN</td>\n",
       "      <td>3</td>\n",
       "      <td>0</td>\n",
       "      <td>0</td>\n",
       "      <td>S</td>\n",
       "      <td>[20, 40)</td>\n",
       "      <td>[7.9, 14.4)</td>\n",
       "      <td>C</td>\n",
       "      <td>1</td>\n",
       "      <td>0</td>\n",
       "      <td>0</td>\n",
       "      <td>1</td>\n",
       "    </tr>\n",
       "    <tr>\n",
       "      <th>4</th>\n",
       "      <td>NaN</td>\n",
       "      <td>3</td>\n",
       "      <td>1</td>\n",
       "      <td>1</td>\n",
       "      <td>S</td>\n",
       "      <td>[20, 40)</td>\n",
       "      <td>[7.9, 14.4)</td>\n",
       "      <td>C</td>\n",
       "      <td>0</td>\n",
       "      <td>0</td>\n",
       "      <td>0</td>\n",
       "      <td>1</td>\n",
       "    </tr>\n",
       "  </tbody>\n",
       "</table>\n",
       "</div>"
      ],
      "text/plain": [
       "   Survived  Pclass  SibSp  Parch Embarked Age_group   Fare_group Cabin_New_2  \\\n",
       "0       NaN       3      0      0        Q  [20, 40)     [0, 7.9)           C   \n",
       "1       NaN       3      1      0        S  [40, 60)     [0, 7.9)           C   \n",
       "2       NaN       2      0      0        Q     [60+)  [7.9, 14.4)           C   \n",
       "3       NaN       3      0      0        S  [20, 40)  [7.9, 14.4)           C   \n",
       "4       NaN       3      1      1        S  [20, 40)  [7.9, 14.4)           C   \n",
       "\n",
       "   Sex_New  1  2  3  \n",
       "0        1  0  0  1  \n",
       "1        0  0  0  1  \n",
       "2        1  0  1  0  \n",
       "3        1  0  0  1  \n",
       "4        0  0  0  1  "
      ]
     },
     "execution_count": 16,
     "metadata": {},
     "output_type": "execute_result"
    }
   ],
   "source": [
    "Test.head()"
   ]
  },
  {
   "cell_type": "code",
   "execution_count": 17,
   "id": "honey-bahamas",
   "metadata": {},
   "outputs": [
    {
     "name": "stderr",
     "output_type": "stream",
     "text": [
      "<ipython-input-17-a64413cdb6f2>:1: SettingWithCopyWarning: \n",
      "A value is trying to be set on a copy of a slice from a DataFrame.\n",
      "Try using .loc[row_indexer,col_indexer] = value instead\n",
      "\n",
      "See the caveats in the documentation: https://pandas.pydata.org/pandas-docs/stable/user_guide/indexing.html#returning-a-view-versus-a-copy\n",
      "  Train['train'] = 1\n",
      "<ipython-input-17-a64413cdb6f2>:2: SettingWithCopyWarning: \n",
      "A value is trying to be set on a copy of a slice from a DataFrame.\n",
      "Try using .loc[row_indexer,col_indexer] = value instead\n",
      "\n",
      "See the caveats in the documentation: https://pandas.pydata.org/pandas-docs/stable/user_guide/indexing.html#returning-a-view-versus-a-copy\n",
      "  Test['train'] = 0\n"
     ]
    }
   ],
   "source": [
    "Train['train'] = 1\n",
    "Test['train'] = 0"
   ]
  },
  {
   "cell_type": "code",
   "execution_count": 18,
   "id": "continued-battle",
   "metadata": {},
   "outputs": [],
   "source": [
    "combined = pd.concat([Train, Test])"
   ]
  },
  {
   "cell_type": "code",
   "execution_count": 19,
   "id": "former-plate",
   "metadata": {},
   "outputs": [],
   "source": [
    "column_encoded = pd.get_dummies(combined['SibSp'])"
   ]
  },
  {
   "cell_type": "code",
   "execution_count": 20,
   "id": "personalized-gasoline",
   "metadata": {},
   "outputs": [],
   "source": [
    "combined = pd.concat([combined, column_encoded], axis=1)"
   ]
  },
  {
   "cell_type": "code",
   "execution_count": 21,
   "id": "cardiac-pharmacy",
   "metadata": {},
   "outputs": [],
   "source": [
    "Train = combined[combined['train'] == 1]\n",
    "Test = combined[combined['train'] == 0]"
   ]
  },
  {
   "cell_type": "code",
   "execution_count": 22,
   "id": "excess-shelf",
   "metadata": {},
   "outputs": [
    {
     "name": "stderr",
     "output_type": "stream",
     "text": [
      "c:\\users\\zebas\\appdata\\local\\programs\\python\\python39\\lib\\site-packages\\pandas\\core\\frame.py:4308: SettingWithCopyWarning: \n",
      "A value is trying to be set on a copy of a slice from a DataFrame\n",
      "\n",
      "See the caveats in the documentation: https://pandas.pydata.org/pandas-docs/stable/user_guide/indexing.html#returning-a-view-versus-a-copy\n",
      "  return super().drop(\n"
     ]
    }
   ],
   "source": [
    "Train.drop(['train'], axis=1, inplace=True)\n",
    "Test.drop(['train'], axis=1, inplace=True)"
   ]
  },
  {
   "cell_type": "code",
   "execution_count": 23,
   "id": "oriented-shell",
   "metadata": {},
   "outputs": [
    {
     "name": "stderr",
     "output_type": "stream",
     "text": [
      "<ipython-input-23-a64413cdb6f2>:1: SettingWithCopyWarning: \n",
      "A value is trying to be set on a copy of a slice from a DataFrame.\n",
      "Try using .loc[row_indexer,col_indexer] = value instead\n",
      "\n",
      "See the caveats in the documentation: https://pandas.pydata.org/pandas-docs/stable/user_guide/indexing.html#returning-a-view-versus-a-copy\n",
      "  Train['train'] = 1\n",
      "<ipython-input-23-a64413cdb6f2>:2: SettingWithCopyWarning: \n",
      "A value is trying to be set on a copy of a slice from a DataFrame.\n",
      "Try using .loc[row_indexer,col_indexer] = value instead\n",
      "\n",
      "See the caveats in the documentation: https://pandas.pydata.org/pandas-docs/stable/user_guide/indexing.html#returning-a-view-versus-a-copy\n",
      "  Test['train'] = 0\n"
     ]
    }
   ],
   "source": [
    "Train['train'] = 1\n",
    "Test['train'] = 0"
   ]
  },
  {
   "cell_type": "code",
   "execution_count": 24,
   "id": "greater-lecture",
   "metadata": {},
   "outputs": [],
   "source": [
    "combined = pd.concat([Train, Test])"
   ]
  },
  {
   "cell_type": "code",
   "execution_count": 25,
   "id": "political-austria",
   "metadata": {},
   "outputs": [],
   "source": [
    "column_encoded = pd.get_dummies(combined['Parch'])"
   ]
  },
  {
   "cell_type": "code",
   "execution_count": 26,
   "id": "varying-abraham",
   "metadata": {},
   "outputs": [],
   "source": [
    "combined = pd.concat([combined, column_encoded], axis=1)"
   ]
  },
  {
   "cell_type": "code",
   "execution_count": 27,
   "id": "differential-training",
   "metadata": {},
   "outputs": [],
   "source": [
    "Train = combined[combined['train'] == 1]\n",
    "Test = combined[combined['train'] == 0]"
   ]
  },
  {
   "cell_type": "code",
   "execution_count": 28,
   "id": "monetary-penetration",
   "metadata": {},
   "outputs": [
    {
     "name": "stderr",
     "output_type": "stream",
     "text": [
      "c:\\users\\zebas\\appdata\\local\\programs\\python\\python39\\lib\\site-packages\\pandas\\core\\frame.py:4308: SettingWithCopyWarning: \n",
      "A value is trying to be set on a copy of a slice from a DataFrame\n",
      "\n",
      "See the caveats in the documentation: https://pandas.pydata.org/pandas-docs/stable/user_guide/indexing.html#returning-a-view-versus-a-copy\n",
      "  return super().drop(\n"
     ]
    }
   ],
   "source": [
    "Train.drop(['train'], axis=1, inplace=True)\n",
    "Test.drop(['train'], axis=1, inplace=True)"
   ]
  },
  {
   "cell_type": "code",
   "execution_count": 29,
   "id": "alive-elder",
   "metadata": {},
   "outputs": [
    {
     "name": "stderr",
     "output_type": "stream",
     "text": [
      "<ipython-input-29-a64413cdb6f2>:1: SettingWithCopyWarning: \n",
      "A value is trying to be set on a copy of a slice from a DataFrame.\n",
      "Try using .loc[row_indexer,col_indexer] = value instead\n",
      "\n",
      "See the caveats in the documentation: https://pandas.pydata.org/pandas-docs/stable/user_guide/indexing.html#returning-a-view-versus-a-copy\n",
      "  Train['train'] = 1\n",
      "<ipython-input-29-a64413cdb6f2>:2: SettingWithCopyWarning: \n",
      "A value is trying to be set on a copy of a slice from a DataFrame.\n",
      "Try using .loc[row_indexer,col_indexer] = value instead\n",
      "\n",
      "See the caveats in the documentation: https://pandas.pydata.org/pandas-docs/stable/user_guide/indexing.html#returning-a-view-versus-a-copy\n",
      "  Test['train'] = 0\n"
     ]
    }
   ],
   "source": [
    "Train['train'] = 1\n",
    "Test['train'] = 0"
   ]
  },
  {
   "cell_type": "code",
   "execution_count": 30,
   "id": "terminal-canon",
   "metadata": {},
   "outputs": [],
   "source": [
    "combined = pd.concat([Train, Test])"
   ]
  },
  {
   "cell_type": "code",
   "execution_count": 31,
   "id": "potential-shareware",
   "metadata": {},
   "outputs": [],
   "source": [
    "column_encoded = pd.get_dummies(combined['Embarked'])"
   ]
  },
  {
   "cell_type": "code",
   "execution_count": 32,
   "id": "extra-short",
   "metadata": {},
   "outputs": [],
   "source": [
    "combined = pd.concat([combined, column_encoded], axis=1)"
   ]
  },
  {
   "cell_type": "code",
   "execution_count": 33,
   "id": "crude-richards",
   "metadata": {},
   "outputs": [],
   "source": [
    "Train = combined[combined['train'] == 1]\n",
    "Test = combined[combined['train'] == 0]"
   ]
  },
  {
   "cell_type": "code",
   "execution_count": 34,
   "id": "personalized-archive",
   "metadata": {},
   "outputs": [
    {
     "name": "stderr",
     "output_type": "stream",
     "text": [
      "c:\\users\\zebas\\appdata\\local\\programs\\python\\python39\\lib\\site-packages\\pandas\\core\\frame.py:4308: SettingWithCopyWarning: \n",
      "A value is trying to be set on a copy of a slice from a DataFrame\n",
      "\n",
      "See the caveats in the documentation: https://pandas.pydata.org/pandas-docs/stable/user_guide/indexing.html#returning-a-view-versus-a-copy\n",
      "  return super().drop(\n"
     ]
    }
   ],
   "source": [
    "Train.drop(['train'], axis=1, inplace=True)\n",
    "Test.drop(['train'], axis=1, inplace=True)"
   ]
  },
  {
   "cell_type": "code",
   "execution_count": 35,
   "id": "exciting-wisconsin",
   "metadata": {},
   "outputs": [
    {
     "name": "stderr",
     "output_type": "stream",
     "text": [
      "<ipython-input-35-a64413cdb6f2>:1: SettingWithCopyWarning: \n",
      "A value is trying to be set on a copy of a slice from a DataFrame.\n",
      "Try using .loc[row_indexer,col_indexer] = value instead\n",
      "\n",
      "See the caveats in the documentation: https://pandas.pydata.org/pandas-docs/stable/user_guide/indexing.html#returning-a-view-versus-a-copy\n",
      "  Train['train'] = 1\n",
      "<ipython-input-35-a64413cdb6f2>:2: SettingWithCopyWarning: \n",
      "A value is trying to be set on a copy of a slice from a DataFrame.\n",
      "Try using .loc[row_indexer,col_indexer] = value instead\n",
      "\n",
      "See the caveats in the documentation: https://pandas.pydata.org/pandas-docs/stable/user_guide/indexing.html#returning-a-view-versus-a-copy\n",
      "  Test['train'] = 0\n"
     ]
    }
   ],
   "source": [
    "Train['train'] = 1\n",
    "Test['train'] = 0"
   ]
  },
  {
   "cell_type": "code",
   "execution_count": 36,
   "id": "unlimited-emerald",
   "metadata": {},
   "outputs": [
    {
     "name": "stderr",
     "output_type": "stream",
     "text": [
      "c:\\users\\zebas\\appdata\\local\\programs\\python\\python39\\lib\\site-packages\\pandas\\core\\frame.py:4308: SettingWithCopyWarning: \n",
      "A value is trying to be set on a copy of a slice from a DataFrame\n",
      "\n",
      "See the caveats in the documentation: https://pandas.pydata.org/pandas-docs/stable/user_guide/indexing.html#returning-a-view-versus-a-copy\n",
      "  return super().drop(\n"
     ]
    }
   ],
   "source": [
    "combined = pd.concat([Train, Test])\n",
    "column_encoded = pd.get_dummies(combined['Age_group'])\n",
    "combined = pd.concat([combined, column_encoded], axis=1)\n",
    "Train = combined[combined['train'] == 1]\n",
    "Test = combined[combined['train'] == 0]\n",
    "Train.drop(['train'], axis=1, inplace=True)\n",
    "Test.drop(['train'], axis=1, inplace=True)"
   ]
  },
  {
   "cell_type": "code",
   "execution_count": 37,
   "id": "controlled-boxing",
   "metadata": {},
   "outputs": [
    {
     "name": "stderr",
     "output_type": "stream",
     "text": [
      "<ipython-input-37-da922ddc562f>:1: SettingWithCopyWarning: \n",
      "A value is trying to be set on a copy of a slice from a DataFrame.\n",
      "Try using .loc[row_indexer,col_indexer] = value instead\n",
      "\n",
      "See the caveats in the documentation: https://pandas.pydata.org/pandas-docs/stable/user_guide/indexing.html#returning-a-view-versus-a-copy\n",
      "  Train['train'] = 1\n",
      "<ipython-input-37-da922ddc562f>:2: SettingWithCopyWarning: \n",
      "A value is trying to be set on a copy of a slice from a DataFrame.\n",
      "Try using .loc[row_indexer,col_indexer] = value instead\n",
      "\n",
      "See the caveats in the documentation: https://pandas.pydata.org/pandas-docs/stable/user_guide/indexing.html#returning-a-view-versus-a-copy\n",
      "  Test['train'] = 0\n",
      "c:\\users\\zebas\\appdata\\local\\programs\\python\\python39\\lib\\site-packages\\pandas\\core\\frame.py:4308: SettingWithCopyWarning: \n",
      "A value is trying to be set on a copy of a slice from a DataFrame\n",
      "\n",
      "See the caveats in the documentation: https://pandas.pydata.org/pandas-docs/stable/user_guide/indexing.html#returning-a-view-versus-a-copy\n",
      "  return super().drop(\n"
     ]
    }
   ],
   "source": [
    "Train['train'] = 1\n",
    "Test['train'] = 0\n",
    "combined = pd.concat([Train, Test])\n",
    "column_encoded = pd.get_dummies(combined['Cabin_New_2'])\n",
    "combined = pd.concat([combined, column_encoded], axis=1)\n",
    "Train = combined[combined['train'] == 1]\n",
    "Test = combined[combined['train'] == 0]\n",
    "Train.drop(['train'], axis=1, inplace=True)\n",
    "Test.drop(['train'], axis=1, inplace=True)"
   ]
  },
  {
   "cell_type": "code",
   "execution_count": 38,
   "id": "ultimate-greene",
   "metadata": {},
   "outputs": [
    {
     "name": "stderr",
     "output_type": "stream",
     "text": [
      "<ipython-input-38-46484fde5849>:1: SettingWithCopyWarning: \n",
      "A value is trying to be set on a copy of a slice from a DataFrame.\n",
      "Try using .loc[row_indexer,col_indexer] = value instead\n",
      "\n",
      "See the caveats in the documentation: https://pandas.pydata.org/pandas-docs/stable/user_guide/indexing.html#returning-a-view-versus-a-copy\n",
      "  Train['train'] = 1\n",
      "<ipython-input-38-46484fde5849>:2: SettingWithCopyWarning: \n",
      "A value is trying to be set on a copy of a slice from a DataFrame.\n",
      "Try using .loc[row_indexer,col_indexer] = value instead\n",
      "\n",
      "See the caveats in the documentation: https://pandas.pydata.org/pandas-docs/stable/user_guide/indexing.html#returning-a-view-versus-a-copy\n",
      "  Test['train'] = 0\n",
      "c:\\users\\zebas\\appdata\\local\\programs\\python\\python39\\lib\\site-packages\\pandas\\core\\frame.py:4308: SettingWithCopyWarning: \n",
      "A value is trying to be set on a copy of a slice from a DataFrame\n",
      "\n",
      "See the caveats in the documentation: https://pandas.pydata.org/pandas-docs/stable/user_guide/indexing.html#returning-a-view-versus-a-copy\n",
      "  return super().drop(\n"
     ]
    }
   ],
   "source": [
    "Train['train'] = 1\n",
    "Test['train'] = 0\n",
    "combined = pd.concat([Train, Test])\n",
    "column_encoded = pd.get_dummies(combined['Sex_New'])\n",
    "combined = pd.concat([combined, column_encoded], axis=1)\n",
    "Train = combined[combined['train'] == 1]\n",
    "Test = combined[combined['train'] == 0]\n",
    "Train.drop(['train'], axis=1, inplace=True)\n",
    "Test.drop(['train'], axis=1, inplace=True)"
   ]
  },
  {
   "cell_type": "code",
   "execution_count": 39,
   "id": "affiliated-illinois",
   "metadata": {},
   "outputs": [
    {
     "name": "stderr",
     "output_type": "stream",
     "text": [
      "<ipython-input-39-3659220b6106>:1: SettingWithCopyWarning: \n",
      "A value is trying to be set on a copy of a slice from a DataFrame.\n",
      "Try using .loc[row_indexer,col_indexer] = value instead\n",
      "\n",
      "See the caveats in the documentation: https://pandas.pydata.org/pandas-docs/stable/user_guide/indexing.html#returning-a-view-versus-a-copy\n",
      "  Train['train'] = 1\n",
      "<ipython-input-39-3659220b6106>:2: SettingWithCopyWarning: \n",
      "A value is trying to be set on a copy of a slice from a DataFrame.\n",
      "Try using .loc[row_indexer,col_indexer] = value instead\n",
      "\n",
      "See the caveats in the documentation: https://pandas.pydata.org/pandas-docs/stable/user_guide/indexing.html#returning-a-view-versus-a-copy\n",
      "  Test['train'] = 0\n",
      "c:\\users\\zebas\\appdata\\local\\programs\\python\\python39\\lib\\site-packages\\pandas\\core\\frame.py:4308: SettingWithCopyWarning: \n",
      "A value is trying to be set on a copy of a slice from a DataFrame\n",
      "\n",
      "See the caveats in the documentation: https://pandas.pydata.org/pandas-docs/stable/user_guide/indexing.html#returning-a-view-versus-a-copy\n",
      "  return super().drop(\n"
     ]
    }
   ],
   "source": [
    "Train['train'] = 1\n",
    "Test['train'] = 0\n",
    "combined = pd.concat([Train, Test])\n",
    "column_encoded = pd.get_dummies(combined['Fare_group'])\n",
    "combined = pd.concat([combined, column_encoded], axis=1)\n",
    "Train = combined[combined['train'] == 1]\n",
    "Test = combined[combined['train'] == 0]\n",
    "Train.drop(['train'], axis=1, inplace=True)\n",
    "Test.drop(['train'], axis=1, inplace=True)"
   ]
  },
  {
   "cell_type": "code",
   "execution_count": 40,
   "id": "relevant-england",
   "metadata": {},
   "outputs": [],
   "source": [
    "Train.drop(['Fare_group', 'Pclass', 'SibSp', 'Parch', 'Embarked', 'Age_group', 'Cabin_New_2', 'Sex_New'], axis=1, inplace=True)"
   ]
  },
  {
   "cell_type": "code",
   "execution_count": 41,
   "id": "overall-offer",
   "metadata": {},
   "outputs": [],
   "source": [
    "Test.drop(['Fare_group', 'Survived', 'Pclass', 'SibSp', 'Parch', 'Embarked', 'Age_group', 'Cabin_New_2', 'Sex_New'], axis=1, inplace=True)"
   ]
  },
  {
   "cell_type": "code",
   "execution_count": 42,
   "id": "voluntary-closer",
   "metadata": {},
   "outputs": [
    {
     "data": {
      "text/plain": [
       "Index([   'Survived',             1,             2,             3,\n",
       "                   0,             1,             2,             3,\n",
       "                   4,             5,             8,             0,\n",
       "                   1,             2,             3,             4,\n",
       "                   5,             6,             9,           'C',\n",
       "                 'Q',           'S',     '[0, 20)',    '[20, 40)',\n",
       "          '[40, 60)',       '[60+)',           'A',           'B',\n",
       "                 'C',           'D',           'E',           'F',\n",
       "                 'G',           'T',             0,             1,\n",
       "          '[0, 7.9)',  '[31, 38.9)',     '[38.9+)', '[7.9, 14.4)'],\n",
       "      dtype='object')"
      ]
     },
     "execution_count": 42,
     "metadata": {},
     "output_type": "execute_result"
    }
   ],
   "source": [
    "Train.columns"
   ]
  },
  {
   "cell_type": "code",
   "execution_count": 43,
   "id": "sweet-credit",
   "metadata": {},
   "outputs": [
    {
     "data": {
      "text/plain": [
       "Index([            1,             2,             3,             0,\n",
       "                   1,             2,             3,             4,\n",
       "                   5,             8,             0,             1,\n",
       "                   2,             3,             4,             5,\n",
       "                   6,             9,           'C',           'Q',\n",
       "                 'S',     '[0, 20)',    '[20, 40)',    '[40, 60)',\n",
       "             '[60+)',           'A',           'B',           'C',\n",
       "                 'D',           'E',           'F',           'G',\n",
       "                 'T',             0,             1,    '[0, 7.9)',\n",
       "        '[31, 38.9)',     '[38.9+)', '[7.9, 14.4)'],\n",
       "      dtype='object')"
      ]
     },
     "execution_count": 43,
     "metadata": {},
     "output_type": "execute_result"
    }
   ],
   "source": [
    "Test.columns"
   ]
  },
  {
   "cell_type": "code",
   "execution_count": 44,
   "id": "common-pension",
   "metadata": {},
   "outputs": [],
   "source": [
    "Train = Train.rename(columns={'[60+)': 'A1', '[0, 20)': 'B1', '[20, 40)': 'C1', '[40, 60)': 'D1', '[31, 38.9)': 'E1', '[38.9+)': 'F1', '[7.9, 14.4)': 'G1', '[0, 7.9)': 'H1'})"
   ]
  },
  {
   "cell_type": "code",
   "execution_count": 45,
   "id": "vital-constitutional",
   "metadata": {},
   "outputs": [],
   "source": [
    "Test = Test.rename(columns={'[60+)': 'A1', '[0, 20)': 'B1', '[20, 40)': 'C1', '[40, 60)': 'D1', '[31, 38.9)': 'E1', '[38.9+)': 'F1', '[7.9, 14.4)': 'G1', '[0, 7.9)': 'H1'})"
   ]
  },
  {
   "cell_type": "code",
   "execution_count": 46,
   "id": "unsigned-filing",
   "metadata": {},
   "outputs": [],
   "source": [
    "Train.to_csv(\"Data/TrainEncoded.csv\", index=False)\n",
    "Test.to_csv(\"Data/TestEncoded.csv\", index=False)"
   ]
  },
  {
   "cell_type": "code",
   "execution_count": null,
   "id": "rough-buddy",
   "metadata": {},
   "outputs": [],
   "source": []
  }
 ],
 "metadata": {
  "kernelspec": {
   "display_name": "Python 3",
   "language": "python",
   "name": "python3"
  },
  "language_info": {
   "codemirror_mode": {
    "name": "ipython",
    "version": 3
   },
   "file_extension": ".py",
   "mimetype": "text/x-python",
   "name": "python",
   "nbconvert_exporter": "python",
   "pygments_lexer": "ipython3",
   "version": "3.9.2"
  }
 },
 "nbformat": 4,
 "nbformat_minor": 5
}
