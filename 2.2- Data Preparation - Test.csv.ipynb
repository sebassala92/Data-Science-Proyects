{
 "cells": [
  {
   "cell_type": "code",
   "execution_count": 1,
   "id": "comprehensive-holly",
   "metadata": {},
   "outputs": [],
   "source": [
    "import pandas as pd\n",
    "from matplotlib import pyplot as plt\n",
    "import seaborn as sns\n",
    "import numpy as np\n",
    "\n",
    "import warnings\n",
    "warnings.filterwarnings('ignore')"
   ]
  },
  {
   "cell_type": "code",
   "execution_count": 2,
   "id": "crucial-damage",
   "metadata": {},
   "outputs": [],
   "source": [
    "df = pd.read_csv(\"Data/TestDataAnalysis.csv\")"
   ]
  },
  {
   "cell_type": "code",
   "execution_count": 3,
   "id": "common-coordinator",
   "metadata": {},
   "outputs": [],
   "source": [
    "df = df.drop(['Ticket'], axis = 1)"
   ]
  },
  {
   "cell_type": "code",
   "execution_count": 4,
   "id": "abroad-russian",
   "metadata": {},
   "outputs": [],
   "source": [
    "  df['Cabin_New'] = df['Cabin'].apply(lambda x: \n",
    "                         list(x) if type(x) != float else \n",
    "                         np.nan\n",
    "                    )"
   ]
  },
  {
   "cell_type": "code",
   "execution_count": 5,
   "id": "going-expense",
   "metadata": {},
   "outputs": [],
   "source": [
    "df['Cabin_New_2'] = df['Cabin_New'].apply(lambda x: \n",
    "                         x[0] if type(x) == list else \n",
    "                         np.nan\n",
    "                    )"
   ]
  },
  {
   "cell_type": "code",
   "execution_count": 6,
   "id": "fifty-carpet",
   "metadata": {},
   "outputs": [
    {
     "data": {
      "text/plain": [
       "[31, 38.9)     117\n",
       "[0, 7.9)       114\n",
       "[38.9+)         94\n",
       "[7.9, 14.4)     92\n",
       "Name: Fare_group, dtype: int64"
      ]
     },
     "execution_count": 6,
     "metadata": {},
     "output_type": "execute_result"
    }
   ],
   "source": [
    "df['Fare_group'].value_counts()"
   ]
  },
  {
   "cell_type": "code",
   "execution_count": 7,
   "id": "gentle-austin",
   "metadata": {},
   "outputs": [],
   "source": [
    "df = df.drop(['Cabin', 'Cabin_New'], axis=1)"
   ]
  },
  {
   "cell_type": "code",
   "execution_count": 8,
   "id": "executive-murder",
   "metadata": {},
   "outputs": [],
   "source": [
    "df['Age_group'].fillna('[20, 40)', inplace=True)"
   ]
  },
  {
   "cell_type": "code",
   "execution_count": 9,
   "id": "saved-tanzania",
   "metadata": {},
   "outputs": [],
   "source": [
    "df['Embarked'].fillna('S', inplace=True)"
   ]
  },
  {
   "cell_type": "code",
   "execution_count": 10,
   "id": "solar-stopping",
   "metadata": {},
   "outputs": [],
   "source": [
    "df['Cabin_New_2'].fillna('C', inplace=True)"
   ]
  },
  {
   "cell_type": "code",
   "execution_count": 11,
   "id": "shaped-responsibility",
   "metadata": {},
   "outputs": [],
   "source": [
    "df['Fare_group'].fillna('[31, 38.9)', inplace=True)"
   ]
  },
  {
   "cell_type": "code",
   "execution_count": 12,
   "id": "patient-millennium",
   "metadata": {},
   "outputs": [],
   "source": [
    "df = df.drop(['Age'], axis=1)"
   ]
  },
  {
   "cell_type": "code",
   "execution_count": 13,
   "id": "particular-trademark",
   "metadata": {},
   "outputs": [],
   "source": [
    "df = df.drop(['Fare'], axis=1)"
   ]
  },
  {
   "cell_type": "code",
   "execution_count": 14,
   "id": "configured-radar",
   "metadata": {},
   "outputs": [
    {
     "data": {
      "text/plain": [
       "Pclass         0\n",
       "Sex            0\n",
       "SibSp          0\n",
       "Parch          0\n",
       "Embarked       0\n",
       "Age_group      0\n",
       "Fare_group     0\n",
       "Cabin_New_2    0\n",
       "dtype: int64"
      ]
     },
     "execution_count": 14,
     "metadata": {},
     "output_type": "execute_result"
    }
   ],
   "source": [
    "df.isnull().sum()"
   ]
  },
  {
   "cell_type": "code",
   "execution_count": 15,
   "id": "approved-music",
   "metadata": {},
   "outputs": [],
   "source": [
    "df['Sex_New'] = df['Sex'].apply(lambda x: 1 if x == 'male' else 0)"
   ]
  },
  {
   "cell_type": "code",
   "execution_count": 16,
   "id": "horizontal-exploration",
   "metadata": {},
   "outputs": [],
   "source": [
    "df = df.drop(['Sex'], axis=1)"
   ]
  },
  {
   "cell_type": "code",
   "execution_count": 17,
   "id": "involved-petite",
   "metadata": {},
   "outputs": [],
   "source": [
    "class OneStepFeatEng():\n",
    "    def __init__(self, df):\n",
    "        self.df = df\n",
    "        \n",
    "    # Drop columns\n",
    "    def drop_column(self, column_names):\n",
    "        self.df.drop(column_names, axis=1, inplace=True)\n",
    "        return self.df.head()\n",
    "    \n",
    "    ## Separated cols\n",
    "    def separated_cols(self, target_var):\n",
    "        target_var = target_var\n",
    "        features = [x for x in list(self.df.columns) if x != target_var]\n",
    "        \n",
    "        cat_cols = [column_name for column_name in self.df.columns if self.df[column_name].dtypes=='O']\n",
    "        num_cols = [column_name for column_name in self.df.columns if self.df[column_name].dtypes!='O']\n",
    "        \n",
    "        return features, cat_cols, num_cols\n",
    "    \n",
    "    # Boolean encoding\n",
    "    def boolean_encoding(self, column_name, true_val):\n",
    "        self.df[column_name] = self.df[column_name].apply(lambda x: 1 if x == true_val else 0)\n",
    "        return self.df.head()\n",
    "    \n",
    "    # Final columns\n",
    "    def final_columns(self):\n",
    "        return self.df.columns\n",
    "    \n",
    "    # Final dataframe\n",
    "    def final_dataframe(self):\n",
    "        return self.df"
   ]
  },
  {
   "cell_type": "code",
   "execution_count": 18,
   "id": "historical-kitchen",
   "metadata": {},
   "outputs": [],
   "source": [
    "X = OneStepFeatEng(df)"
   ]
  },
  {
   "cell_type": "code",
   "execution_count": 19,
   "id": "touched-mobile",
   "metadata": {},
   "outputs": [],
   "source": [
    "features, cat_cols, num_cols = X.separated_cols('Survived')"
   ]
  },
  {
   "cell_type": "code",
   "execution_count": 20,
   "id": "legendary-source",
   "metadata": {},
   "outputs": [],
   "source": [
    "X.final_dataframe().to_csv(\"Data/TestFeatureEngined.csv\", index=False)"
   ]
  },
  {
   "cell_type": "code",
   "execution_count": null,
   "id": "large-passion",
   "metadata": {},
   "outputs": [],
   "source": []
  }
 ],
 "metadata": {
  "kernelspec": {
   "display_name": "Python 3",
   "language": "python",
   "name": "python3"
  },
  "language_info": {
   "codemirror_mode": {
    "name": "ipython",
    "version": 3
   },
   "file_extension": ".py",
   "mimetype": "text/x-python",
   "name": "python",
   "nbconvert_exporter": "python",
   "pygments_lexer": "ipython3",
   "version": "3.9.2"
  }
 },
 "nbformat": 4,
 "nbformat_minor": 5
}
